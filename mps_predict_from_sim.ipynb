{
 "cells": [
  {
   "cell_type": "markdown",
   "metadata": {},
   "source": [
    "# Predict MPS values from simulation data"
   ]
  },
  {
   "cell_type": "markdown",
   "metadata": {},
   "source": [
    "## import modules"
   ]
  },
  {
   "cell_type": "code",
   "execution_count": 80,
   "metadata": {
    "collapsed": false
   },
   "outputs": [],
   "source": [
    "from numpy import genfromtxt\n",
    "import numpy as np\n",
    "import math\n",
    "from pylab import *\n",
    "import urllib\n",
    "import os\n",
    "import matplotlib.pyplot as pl\n",
    "import pandas as pd\n",
    "from sklearn.metrics import mean_squared_error\n",
    "from __future__ import division\n",
    "from scipy.optimize import curve_fit\n",
    "from sklearn.model_selection import train_test_split\n",
    "from sklearn.linear_model import LinearRegression\n",
    "from sklearn.ensemble import RandomForestRegressor\n",
    "from sklearn.svm import SVR\n",
    "from lmfit import Model\n",
    "import pickle\n",
    "import seaborn as sns\n",
    "from matplotlib.widgets import Slider\n",
    "pl.style.use('seaborn')\n",
    "pl.rc('font',family='Arial')"
   ]
  },
  {
   "cell_type": "markdown",
   "metadata": {},
   "source": [
    "## enter value to predict, load model  \n",
    "  \n",
    "Options:  \n",
    "\"tan\": phase lag (omega x tau)  \n",
    "\"tau\": relaxation time in ns  \n",
    "\"third\": third harmonic amplitude (normalized)  \n",
    "\"fifth\": fifth harmonic amplitude (normalized)  \n",
    "\"ratio\": ratio of 3rd to 5th harmonics  \n",
    "  \n",
    "Brownian relaxation options: \"on\" or \"off\""
   ]
  },
  {
   "cell_type": "code",
   "execution_count": 100,
   "metadata": {
    "collapsed": false
   },
   "outputs": [],
   "source": [
    "predict_value = \"tau\"\n",
    "brownian = \"on\"\n",
    "\n",
    "if brownian == \"on\":\n",
    "    if predict_value == \"tan\":\n",
    "        sim_file = open('mpsmodel-tan.pkl', 'rb')\n",
    "        model = pickle.load(sim_file)\n",
    "        sim_file.close()\n",
    "    if predict_value == \"tau\":\n",
    "        sim_file = open('mpsmodel-tau.pkl', 'rb')\n",
    "        model = pickle.load(sim_file)\n",
    "        sim_file.close()\n",
    "    if predict_value == \"third\":\n",
    "        sim_file = open('mpsmodel-third.pkl', 'rb')\n",
    "        model = pickle.load(sim_file)\n",
    "        sim_file.close()\n",
    "    if predict_value == \"fifth\":\n",
    "        sim_file = open('mpsmodel-fifth.pkl', 'rb')\n",
    "        model = pickle.load(sim_file)\n",
    "        sim_file.close()\n",
    "    if predict_value == \"ratio\":\n",
    "        sim_file = open('mpsmodel-ratio.pkl', 'rb')\n",
    "        model = pickle.load(sim_file)\n",
    "        sim_file.close()\n",
    "elif brownian == \"off\":\n",
    "    if predict_value == \"tan\":\n",
    "        sim_file = open('mpsmodel-tan-frozen.pkl', 'rb')\n",
    "        model = pickle.load(sim_file)\n",
    "        sim_file.close()\n",
    "    if predict_value == \"tau\":\n",
    "        sim_file = open('mpsmodel-tau-frozen.pkl', 'rb')\n",
    "        model = pickle.load(sim_file)\n",
    "        sim_file.close()\n",
    "    if predict_value == \"third\":\n",
    "        sim_file = open('mpsmodel-third-frozen.pkl', 'rb')\n",
    "        model = pickle.load(sim_file)\n",
    "        sim_file.close()\n",
    "    if predict_value == \"fifth\":\n",
    "        sim_file = open('mpsmodel-fifth-frozen.pkl', 'rb')\n",
    "        model = pickle.load(sim_file)\n",
    "        sim_file.close()\n",
    "    if predict_value == \"ratio\":\n",
    "        sim_file = open('mpsmodel-ratio-frozen.pkl', 'rb')\n",
    "        model = pickle.load(sim_file)\n",
    "        sim_file.close()"
   ]
  },
  {
   "cell_type": "markdown",
   "metadata": {},
   "source": [
    "## input parameters to predict\n",
    "Required input variables: field (mT), frequency (Hz), size (nm), K (J/m^3), gyro\n",
    "  \n",
    "Data limits:  \n",
    "field (mT): {10, 11, ... 49, 50}  \n",
    "frequency (Hz): {1000, 5000, 10000, 15000, 20000, 30000, 50000, 100000, 150000}  \n",
    "size (nm): {13, 14, ... 34, 35}  \n",
    "K (J/m^3): {1000, 2000, ... 19000, 20000}  \n",
    "gyro: {1, 2, 4, 10, 20, 30, 50, 60, 70, 80, 90, 100, 120} \n"
   ]
  },
  {
   "cell_type": "code",
   "execution_count": 24,
   "metadata": {
    "collapsed": true
   },
   "outputs": [],
   "source": [
    "field = 20\n",
    "frequency = 25000\n",
    "size = 25.2\n",
    "K = 4000\n",
    "gyro = 1"
   ]
  },
  {
   "cell_type": "markdown",
   "metadata": {},
   "source": [
    "## predict value"
   ]
  },
  {
   "cell_type": "code",
   "execution_count": 10,
   "metadata": {
    "collapsed": false
   },
   "outputs": [
    {
     "name": "stdout",
     "output_type": "stream",
     "text": [
      "predicted tan = 0.21448823618097496\n"
     ]
    }
   ],
   "source": [
    "p = model.predict([[field, frequency, size, K, gyro]])\n",
    "print(\"predicted \"+predict_value+\" = {}\".format(p[0]))"
   ]
  },
  {
   "cell_type": "markdown",
   "metadata": {},
   "source": [
    "# Plot predicted point  \n",
    "Input changed parameter"
   ]
  },
  {
   "cell_type": "code",
   "execution_count": 11,
   "metadata": {
    "collapsed": true
   },
   "outputs": [],
   "source": [
    "changed_param = \"size\""
   ]
  },
  {
   "cell_type": "markdown",
   "metadata": {},
   "source": [
    "## import simulation data for plotting\n",
    "Only do this once -- will take a long time"
   ]
  },
  {
   "cell_type": "code",
   "execution_count": 29,
   "metadata": {
    "collapsed": false
   },
   "outputs": [],
   "source": [
    "freqs = []\n",
    "fields = []\n",
    "s_size = []\n",
    "third = []\n",
    "fifth = []\n",
    "b = []\n",
    "s_K = []\n",
    "phase1 = []\n",
    "s_gyro = []\n",
    "\n",
    "for f in os.listdir('fits'):\n",
    "    if f[-1] == 'v':\n",
    "        filename = 'fits/' + f\n",
    "        filedata = np.genfromtxt(filename, delimiter=',')\n",
    "        f = f[:-4]\n",
    "        s = str.split(f,\"_\")\n",
    "        s_size.append(float(s[0][:-2]))\n",
    "        fields.append(float(s[1][:-2]))\n",
    "        freqs.append(int(s[2][:-3])*1000)\n",
    "        moment = filedata[:,1]\n",
    "        third.append(abs(np.fft.fft(moment)[3]))\n",
    "        fifth.append(abs(np.fft.fft(moment)[5]))\n",
    "        phase1.append(np.angle(np.fft.fft(moment)[1]))\n",
    "        if s[-1] == \"frozen\":\n",
    "            b.append(\"off\")\n",
    "        else:\n",
    "            b.append(\"on\")     \n",
    "        g = 1.\n",
    "        k = 5000.\n",
    "        for ss in range(2,len(s)):\n",
    "            if s[ss][0] == \"g\":\n",
    "                g = float(s[ss][1:])\n",
    "            if s[ss][0] == \"K\":\n",
    "                k = 1000*float(s[ss][1:])\n",
    "                if k > 25000:\n",
    "                    k /= 1000.\n",
    "        s_gyro.append(g)\n",
    "        s_K.append(k)\n",
    "            \n",
    "sdata = pd.DataFrame({'frequency': freqs, 'field': fields,'size': s_size, \\\n",
    "                     'third': third, 'fifth': fifth, 'b': b, \\\n",
    "                     'K': s_K, 'phase1': phase1, 'gyro': s_gyro})\n",
    "\n",
    "sdata['ratio'] = sdata['fifth']/sdata['third']\n",
    "sdata['angF'] = 2*np.pi*sdata['frequency']\n",
    "sdata['tan'] = abs(np.tan(sdata['phase1']))\n",
    "sdata['tau'] = sdata['tan']/sdata['angF']"
   ]
  },
  {
   "cell_type": "markdown",
   "metadata": {},
   "source": [
    "## take subset of data for plotting\n"
   ]
  },
  {
   "cell_type": "code",
   "execution_count": 30,
   "metadata": {
    "collapsed": false
   },
   "outputs": [],
   "source": [
    "sub = sdata\n",
    "\n",
    "if changed_param == \"field\": param = field\n",
    "else: sub = sub[(sub['field'] == field)]\n",
    "\n",
    "if changed_param == \"frequency\": param = frequency\n",
    "else: sub = sub[(sub['frequency'] == frequency)]\n",
    "\n",
    "if changed_param == \"size\": param = size\n",
    "else: sub = sub[(sub['size'] == size)]\n",
    "\n",
    "if changed_param == \"K\": param = K\n",
    "else: sub = sub[(sub['K'] == K)]\n",
    "    \n",
    "if changed_param == \"gyro\": param = gyro\n",
    "else: sub = sub[(sub['gyro'] == gyro)]\n",
    "\n",
    "sub = sub.sort_values(by=changed_param)"
   ]
  },
  {
   "cell_type": "markdown",
   "metadata": {},
   "source": [
    "## generate plot"
   ]
  },
  {
   "cell_type": "code",
   "execution_count": 32,
   "metadata": {
    "collapsed": false
   },
   "outputs": [
    {
     "data": {
      "image/png": "[encoded data removed]",
      "text/plain": [
       "<matplotlib.figure.Figure at 0x1a1b0717f0>"
      ]
     },
     "metadata": {},
     "output_type": "display_data"
    }
   ],
   "source": [
    "fig, ax = pl.subplots(figsize=(12,8))\n",
    "\n",
    "scatter(sub[changed_param], sub[predict_value],c=\"black\",alpha=0.7)\n",
    "scatter(param, p, marker='P',c=\"red\")\n",
    "ylabel(predict_value,fontsize=14)\n",
    "xlabel(changed_param,fontsize=14)\n",
    "\n",
    "show()"
   ]
  },
  {
   "cell_type": "markdown",
   "metadata": {},
   "source": [
    "## Example heatmap plotting"
   ]
  },
  {
   "cell_type": "code",
   "execution_count": 101,
   "metadata": {
    "collapsed": true
   },
   "outputs": [],
   "source": [
    "sizes = []\n",
    "points = []\n",
    "fs = []\n",
    "fqs = []\n",
    "for s in range(10,40):\n",
    "    for f in range(5,50,2):\n",
    "        for x in range(50, 120, 10):\n",
    "            p = model.predict([[f, x, s, 6000, 1]])\n",
    "            fs.append(f)\n",
    "            points.append(p[0])\n",
    "            sizes.append(s)\n",
    "            fqs.append(x)\n",
    "        \n",
    "df = pd.DataFrame({'field': fs,'size':sizes,'frequency':fqs, 'tau': points})"
   ]
  },
  {
   "cell_type": "code",
   "execution_count": 102,
   "metadata": {
    "collapsed": false
   },
   "outputs": [
    {
     "data": {
      "image/png": "[encoded data removed]",
      "text/plain": [
       "<matplotlib.figure.Figure at 0x1a161aa400>"
      ]
     },
     "metadata": {},
     "output_type": "display_data"
    }
   ],
   "source": [
    "ax = sns.heatmap(df[(df['frequency'] == 110)].pivot(\"field\", \"size\", \"tau\"))\n",
    "ax.invert_yaxis()\n",
    "\n",
    "show()"
   ]
  },
  {
   "cell_type": "code",
   "execution_count": null,
   "metadata": {
    "collapsed": true
   },
   "outputs": [],
   "source": []
  }
 ],
 "metadata": {
  "anaconda-cloud": {},
  "kernelspec": {
   "display_name": "Python [conda env:miniconda3]",
   "language": "python",
   "name": "conda-env-miniconda3-py"
  },
  "language_info": {
   "codemirror_mode": {
    "name": "ipython",
    "version": 3
   },
   "file_extension": ".py",
   "mimetype": "text/x-python",
   "name": "python",
   "nbconvert_exporter": "python",
   "pygments_lexer": "ipython3",
   "version": "3.5.2"
  }
 },
 "nbformat": 4,
 "nbformat_minor": 1
}
