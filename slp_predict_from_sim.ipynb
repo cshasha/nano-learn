{
 "cells": [
  {
   "cell_type": "markdown",
   "metadata": {},
   "source": [
    "## import modules"
   ]
  },
  {
   "cell_type": "code",
   "execution_count": 26,
   "metadata": {
    "collapsed": true
   },
   "outputs": [],
   "source": [
    "from numpy import genfromtxt\n",
    "import numpy as np\n",
    "import math\n",
    "from pylab import *\n",
    "import urllib\n",
    "import os\n",
    "import matplotlib.pyplot as pl\n",
    "import pandas as pd\n",
    "from sklearn.metrics import mean_squared_error\n",
    "from __future__ import division\n",
    "from scipy.optimize import curve_fit\n",
    "from sklearn.model_selection import train_test_split\n",
    "from sklearn.linear_model import LinearRegression\n",
    "from sklearn.ensemble import RandomForestRegressor\n",
    "from sklearn.svm import SVR\n",
    "from lmfit import Model\n",
    "import pickle\n",
    "pl.style.use('seaborn')\n",
    "pl.rc('font',family='Arial')"
   ]
  },
  {
   "cell_type": "markdown",
   "metadata": {},
   "source": [
    "## load model"
   ]
  },
  {
   "cell_type": "code",
   "execution_count": 38,
   "metadata": {
    "collapsed": true
   },
   "outputs": [],
   "source": [
    "sim_file = open('slpmodel.pkl', 'rb')\n",
    "model = pickle.load(sim_file)\n",
    "sim_file.close()"
   ]
  },
  {
   "cell_type": "markdown",
   "metadata": {},
   "source": [
    "## input values to predict\n",
    "Required input variables: field (mT), frequency (kHz), size (nm), K (kJ/m^3), alpha \n",
    "  \n",
    "Data limits:  \n",
    "field (mT): {6, 9, 12, 15, 18, 20}  \n",
    "frequency (kHz): {176, 373, 744, 992}  \n",
    "size (nm): {10, 10.5, ... 29.5, 30}  \n",
    "K (kJ/m^3): {4, 5, 6, 7, 11}  \n",
    "alpha: {0.5, 0.6, ... 0.9, 1}  "
   ]
  },
  {
   "cell_type": "code",
   "execution_count": 28,
   "metadata": {
    "collapsed": true
   },
   "outputs": [],
   "source": [
    "field = 6\n",
    "frequency = 176\n",
    "size = 25.2\n",
    "K = 4\n",
    "alpha = 1"
   ]
  },
  {
   "cell_type": "markdown",
   "metadata": {},
   "source": [
    "## predict SLP value"
   ]
  },
  {
   "cell_type": "code",
   "execution_count": 30,
   "metadata": {
    "collapsed": false
   },
   "outputs": [
    {
     "name": "stdout",
     "output_type": "stream",
     "text": [
      "predicted SLP = 0.24923673333333332\n"
     ]
    }
   ],
   "source": [
    "p = model.predict([[field, frequency, size, K, alpha]])\n",
    "print(\"predicted SLP = {}\".format(p[0]))"
   ]
  },
  {
   "cell_type": "markdown",
   "metadata": {},
   "source": [
    "## plot predicted point  \n",
    "Input changed parameter"
   ]
  },
  {
   "cell_type": "code",
   "execution_count": 31,
   "metadata": {
    "collapsed": true
   },
   "outputs": [],
   "source": [
    "changed_param = \"size\""
   ]
  },
  {
   "cell_type": "markdown",
   "metadata": {},
   "source": [
    "### import simulation data for plotting"
   ]
  },
  {
   "cell_type": "code",
   "execution_count": 34,
   "metadata": {
    "collapsed": true
   },
   "outputs": [],
   "source": [
    "dfs = []\n",
    "\n",
    "for f in os.listdir('SLP'):\n",
    "    if f[-1] == 'v':\n",
    "        filename = 'SLP/' + f\n",
    "        filedata = pd.read_csv(filename, delimiter=',')\n",
    "        dfs.append(pd.DataFrame(filedata))\n",
    "        \n",
    "slpdata = pd.concat(dfs)"
   ]
  },
  {
   "cell_type": "markdown",
   "metadata": {},
   "source": [
    "### take subset of data for plotting"
   ]
  },
  {
   "cell_type": "code",
   "execution_count": 35,
   "metadata": {
    "collapsed": false
   },
   "outputs": [],
   "source": [
    "sub = slpdata\n",
    "\n",
    "if changed_param == \"field\": param = field\n",
    "else: sub = sub[(sub['field'] == field)]\n",
    "\n",
    "if changed_param == \"frequency\": param = frequency\n",
    "else: sub = sub[(sub['frequency'] == frequency)]\n",
    "\n",
    "if changed_param == \"size\": param = size\n",
    "else: sub = sub[(sub['size'] == size)]\n",
    "\n",
    "if changed_param == \"K\": param = K\n",
    "else: sub = sub[(sub['K'] == K)]\n",
    "    \n",
    "if changed_param == \"alpha\": param = alpha\n",
    "else: sub = sub[(sub['alpha'] == alpha)]\n",
    "\n",
    "sub = sub.sort_values(by=changed_param)"
   ]
  },
  {
   "cell_type": "markdown",
   "metadata": {},
   "source": [
    "## plot"
   ]
  },
  {
   "cell_type": "code",
   "execution_count": 36,
   "metadata": {
    "collapsed": false
   },
   "outputs": [
    {
     "data": {
      "image/png": "[encoded data removed]",
      "text/plain": [
       "<matplotlib.figure.Figure at 0x1a21856860>"
      ]
     },
     "metadata": {},
     "output_type": "display_data"
    }
   ],
   "source": [
    "fig, ax = pl.subplots(figsize=(12,8))\n",
    "\n",
    "scatter(sub[changed_param], sub['SLP'],c=\"black\",alpha=0.7)\n",
    "scatter(param, p, marker='P',c=\"red\")\n",
    "ylabel('SLP',fontsize=14)\n",
    "xlabel('size (nm)',fontsize=14)\n",
    "\n",
    "show()"
   ]
  },
  {
   "cell_type": "code",
   "execution_count": null,
   "metadata": {
    "collapsed": true
   },
   "outputs": [],
   "source": []
  }
 ],
 "metadata": {
  "kernelspec": {
   "display_name": "Python [conda env:miniconda3]",
   "language": "python",
   "name": "conda-env-miniconda3-py"
  },
  "language_info": {
   "codemirror_mode": {
    "name": "ipython",
    "version": 3
   },
   "file_extension": ".py",
   "mimetype": "text/x-python",
   "name": "python",
   "nbconvert_exporter": "python",
   "pygments_lexer": "ipython3",
   "version": "3.5.2"
  }
 },
 "nbformat": 4,
 "nbformat_minor": 1
}
